{
 "cells": [
  {
   "cell_type": "markdown",
   "id": "08a82bc2-ddf3-4884-bb69-e3e1b0baa6ee",
   "metadata": {},
   "source": [
    "# House Price Prediction (Multivariable Linear Regression)\n",
    "\n",
    "This project aims to predict house prices using a multivariate linear regression model. Instead of using just one feature (like square footage), this version leverages multiple realistic features to build a more accurate and practical predictive model. This is an ideal starter project to showcase foundational skills in machine learning and regression analysis.\n",
    "\n",
    "## Dataset (Synthetic)\n",
    "- The data is synthetically generated using NumPy to simulate real-world housing data.\n",
    "\n",
    "- Features used:\n",
    "\n",
    "    SquareFeet: Size of the house\n",
    "\n",
    "    Bedrooms: Number of bedrooms\n",
    "\n",
    "    Bathrooms: Number of bathrooms\n",
    "\n",
    "    LocationScore: Rating of the location (0–10 scale)\n",
    "\n",
    "    Age: Age of the house in years\n",
    "\n",
    "- Target variable:\n",
    "\n",
    "    Price: House price calculated using a linear combination of features and random noise."
   ]
  },
  {
   "cell_type": "code",
   "execution_count": 11,
   "id": "4fe08ec1-0956-458c-b240-f46e1da0df19",
   "metadata": {},
   "outputs": [],
   "source": [
    "# Imports\n",
    "import numpy as np\n",
    "import pandas as pd\n",
    "import matplotlib.pyplot as plt\n",
    "from sklearn.linear_model import LinearRegression\n",
    "from sklearn.model_selection import train_test_split\n",
    "from sklearn.metrics import mean_squared_error, r2_score"
   ]
  },
  {
   "cell_type": "code",
   "execution_count": 12,
   "id": "1446c45f-142f-44c7-8a95-62168bb6bd62",
   "metadata": {},
   "outputs": [],
   "source": [
    "# Synthetic data\n",
    "np.random.seed(42)\n",
    "num_samples = 200\n",
    "\n",
    "square_feet = np.random.normal(2000, 500, num_samples).astype(int)\n",
    "num_bedrooms = np.random.randint(2, 6, num_samples)\n",
    "num_bathrooms = np.random.randint(1, 4, num_samples)\n",
    "location_score = np.random.uniform(5, 10, num_samples)\n",
    "age_of_house = np.random.randint(0, 30, num_samples)"
   ]
  },
  {
   "cell_type": "code",
   "execution_count": 13,
   "id": "6c4675bd-fda7-4c05-afff-1ea0d4130c02",
   "metadata": {},
   "outputs": [],
   "source": [
    "# Generate prices using a linear combination + some noise\n",
    "price = (\n",
    "    square_feet * 150 +\n",
    "    num_bedrooms * 10000 +\n",
    "    num_bathrooms * 7000 +\n",
    "    location_score * 10000 -\n",
    "    age_of_house * 2000 +\n",
    "    np.random.normal(0, 20000, num_samples)  # noise\n",
    ").astype(int)"
   ]
  },
  {
   "cell_type": "code",
   "execution_count": 14,
   "id": "dce78d46-1edd-426d-b38f-a6f1a6c89511",
   "metadata": {},
   "outputs": [],
   "source": [
    "# Create DataFrame\n",
    "data = pd.DataFrame({\n",
    "    'SquareFeet': square_feet,\n",
    "    'Bedrooms': num_bedrooms,\n",
    "    'Bathrooms': num_bathrooms,\n",
    "    'LocationScore': location_score,\n",
    "    'Age': age_of_house,\n",
    "    'Price': price\n",
    "})"
   ]
  },
  {
   "cell_type": "code",
   "execution_count": 15,
   "id": "27f7214a-0af9-465b-978f-e2d86aafbf55",
   "metadata": {},
   "outputs": [
    {
     "name": "stdout",
     "output_type": "stream",
     "text": [
      "   SquareFeet  Bedrooms  Bathrooms  LocationScore  Age   Price\n",
      "0        2248         3          1       9.871974   10  484783\n",
      "1        1930         3          3       9.931054    3  423586\n",
      "2        2323         2          1       8.490809   12  416565\n",
      "3        2761         5          1       7.680482   10  525439\n",
      "4        1882         2          2       6.547638    2  378890\n"
     ]
    }
   ],
   "source": [
    "# Visualize\n",
    "print(data.head())"
   ]
  },
  {
   "cell_type": "code",
   "execution_count": 16,
   "id": "3b90d822-c861-4671-bd54-8337548b2ffd",
   "metadata": {},
   "outputs": [
    {
     "name": "stdout",
     "output_type": "stream",
     "text": [
      "\n",
      "Correlation Matrix:\n",
      "                SquareFeet  Bedrooms  Bathrooms  LocationScore       Age  \\\n",
      "SquareFeet       1.000000 -0.044357  -0.110900      -0.047630 -0.022614   \n",
      "Bedrooms        -0.044357  1.000000  -0.082264       0.055316 -0.067627   \n",
      "Bathrooms       -0.110900 -0.082264   1.000000       0.028413 -0.080891   \n",
      "LocationScore   -0.047630  0.055316   0.028413       1.000000 -0.098604   \n",
      "Age             -0.022614 -0.067627  -0.080891      -0.098604  1.000000   \n",
      "Price            0.898433  0.137547  -0.001794       0.171207 -0.266131   \n",
      "\n",
      "                  Price  \n",
      "SquareFeet     0.898433  \n",
      "Bedrooms       0.137547  \n",
      "Bathrooms     -0.001794  \n",
      "LocationScore  0.171207  \n",
      "Age           -0.266131  \n",
      "Price          1.000000  \n"
     ]
    }
   ],
   "source": [
    "# Correlation matrix\n",
    "print(\"\\nCorrelation Matrix:\\n\", data.corr())"
   ]
  },
  {
   "cell_type": "code",
   "execution_count": 17,
   "id": "38a02b88-6e44-4d9e-bd89-cf6d548fbdae",
   "metadata": {},
   "outputs": [],
   "source": [
    "# Train/test split\n",
    "X = data[['SquareFeet', 'Bedrooms', 'Bathrooms', 'LocationScore', 'Age']]\n",
    "y = data['Price']\n",
    "\n",
    "X_train, X_test, y_train, y_test = train_test_split(X, y, test_size=0.2, random_state=42)"
   ]
  },
  {
   "cell_type": "code",
   "execution_count": 18,
   "id": "bffc4512-f49d-473d-b6d6-427f816b9111",
   "metadata": {},
   "outputs": [],
   "source": [
    "# Model training\n",
    "model = LinearRegression()\n",
    "model.fit(X_train, y_train)\n",
    "\n",
    "# Predictions\n",
    "y_pred = model.predict(X_test)"
   ]
  },
  {
   "cell_type": "code",
   "execution_count": 19,
   "id": "21e004f6-be25-4c02-9bf5-c298e6450297",
   "metadata": {},
   "outputs": [
    {
     "name": "stdout",
     "output_type": "stream",
     "text": [
      "\n",
      "Model Coefficients:\n",
      "SquareFeet: 154.32\n",
      "Bedrooms: 10783.91\n",
      "Bathrooms: 8336.48\n",
      "LocationScore: 9832.99\n",
      "Age: -1852.27\n",
      "\n",
      "Intercept: -14073.58\n",
      "Mean Squared Error: 346994272.20\n",
      "R² Score: 0.93\n"
     ]
    }
   ],
   "source": [
    "# Evaluation\n",
    "mse = mean_squared_error(y_test, y_pred)\n",
    "r2 = r2_score(y_test, y_pred)\n",
    "\n",
    "print(\"\\nModel Coefficients:\")\n",
    "for feature, coef in zip(X.columns, model.coef_):\n",
    "    print(f\"{feature}: {coef:.2f}\")\n",
    "\n",
    "print(f\"\\nIntercept: {model.intercept_:.2f}\")\n",
    "print(f\"Mean Squared Error: {mse:.2f}\")\n",
    "print(f\"R² Score: {r2:.2f}\")"
   ]
  },
  {
   "cell_type": "code",
   "execution_count": 20,
   "id": "a67716bd-b994-43ae-8d0b-4a07e07892a1",
   "metadata": {},
   "outputs": [
    {
     "data": {
      "image/png": "[encoded data removed]",
      "text/plain": [
       "<Figure size 640x480 with 1 Axes>"
      ]
     },
     "metadata": {},
     "output_type": "display_data"
    }
   ],
   "source": [
    "# Visualize predictions\n",
    "plt.scatter(y_test, y_pred, color='blue', alpha=0.6)\n",
    "plt.plot([y_test.min(), y_test.max()], [y_test.min(), y_test.max()], color='red', lw=2)\n",
    "plt.xlabel('Actual Price')\n",
    "plt.ylabel('Predicted Price')\n",
    "plt.title('Actual vs Predicted Prices')\n",
    "plt.grid(True)\n",
    "plt.show()"
   ]
  }
 ],
 "metadata": {
  "kernelspec": {
   "display_name": "Python 3 (ipykernel)",
   "language": "python",
   "name": "python3"
  },
  "language_info": {
   "codemirror_mode": {
    "name": "ipython",
    "version": 3
   },
   "file_extension": ".py",
   "mimetype": "text/x-python",
   "name": "python",
   "nbconvert_exporter": "python",
   "pygments_lexer": "ipython3",
   "version": "3.12.7"
  }
 },
 "nbformat": 4,
 "nbformat_minor": 5
}
